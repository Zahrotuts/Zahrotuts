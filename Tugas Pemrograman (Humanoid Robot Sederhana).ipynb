{
 "cells": [
  {
   "cell_type": "code",
   "execution_count": 5,
   "metadata": {},
   "outputs": [
    {
     "name": "stdout",
     "output_type": "stream",
     "text": [
      "[1, 2, 3, 4, 5]\n"
     ]
    }
   ],
   "source": [
    "#jenis-jenis sensor\n",
    "\n",
    "sensoron=1\n",
    "sensoroff=2\n",
    "sensorhitam=3\n",
    "sensorputih=4\n",
    "sensorhitung=5\n",
    "x = []\n",
    "for k in range (0,5) :\n",
    "    a=k+1\n",
    "    x.append (a)\n",
    "print(x)"
   ]
  },
  {
   "cell_type": "code",
   "execution_count": 3,
   "metadata": {},
   "outputs": [
    {
     "name": "stdout",
     "output_type": "stream",
     "text": [
      "sensor on\n",
      "sensor off\n",
      "sensor hitam\n",
      "sensor putih\n",
      "sensor hitung\n"
     ]
    }
   ],
   "source": [
    "#opsi lain penulisan for\n",
    "\n",
    "item=['sensor on','sensor off','sensor hitam','sensor putih','sensor hitung']\n",
    "for isi in item:\n",
    "    print(isi)"
   ]
  },
  {
   "cell_type": "code",
   "execution_count": 9,
   "metadata": {},
   "outputs": [
    {
     "name": "stdout",
     "output_type": "stream",
     "text": [
      "robot bingung\n"
     ]
    }
   ],
   "source": [
    "#pemrograman on dan off pada robot\n",
    "\n",
    "on=True\n",
    "off=False\n",
    "if on==True: # execute this line if on is True\n",
    "    if on==True: # execute this line if on and off are True\n",
    "        print('robot bingung')\n",
    "    else: # if on True, off False\n",
    "        print('jalan')\n",
    "else: # execute this is on is False\n",
    "    if off ==False:\n",
    "        print('diam')\n",
    "    else:\n",
    "        print('berhenti berjalan')"
   ]
  },
  {
   "cell_type": "code",
   "execution_count": 10,
   "metadata": {},
   "outputs": [
    {
     "name": "stdout",
     "output_type": "stream",
     "text": [
      "robot jalan ditempat\n"
     ]
    }
   ],
   "source": [
    "#pemrograman belok kanan dan kiri pada robot\n",
    "\n",
    "putih=True\n",
    "hitam=False\n",
    "if putih==True: # execute this line if putih is True\n",
    "    if putih==True: # execute this line if putih and hitam are True\n",
    "        print('robot jalan ditempat')\n",
    "    else: # if putih True, hitam False\n",
    "        print('belok kanan')\n",
    "else: # execute this is putih is False\n",
    "    if hitam ==False:\n",
    "        print('berjalan lurus')\n",
    "    else:\n",
    "        print('belok kiri')"
   ]
  },
  {
   "cell_type": "code",
   "execution_count": 1,
   "metadata": {},
   "outputs": [
    {
     "name": "stdout",
     "output_type": "stream",
     "text": [
      "jalankan perintah hitung\n"
     ]
    }
   ],
   "source": [
    "#pemrograman perintah menghitung pada robot\n",
    "\n",
    "x=5\n",
    "if x==5: #execute this line below is x is equal to\n",
    "    print('jalankan perintah hitung')\n",
    "else: #execute this line below if otherwise\n",
    "    print('no')"
   ]
  },
  {
   "cell_type": "code",
   "execution_count": 18,
   "metadata": {},
   "outputs": [
    {
     "name": "stdout",
     "output_type": "stream",
     "text": [
      "this is1\n",
      "this is2\n",
      "this is3\n",
      "this is4\n",
      "this is5\n",
      "this is6\n",
      "this is7\n",
      "this is8\n",
      "this is9\n",
      "this is10\n",
      "this is11\n",
      "this is12\n",
      "this is13\n",
      "this is14\n",
      "this is15\n",
      "this is16\n",
      "this is17\n",
      "this is18\n",
      "this is19\n",
      "this is20\n"
     ]
    }
   ],
   "source": [
    "#pemrograman robot menghitung benda yang ada didepannya\n",
    "\n",
    "benda = 1\n",
    "while benda <= 20:\n",
    "    print('this is'+str(benda))\n",
    "    benda += 1"
   ]
  }
 ],
 "metadata": {
  "kernelspec": {
   "display_name": "Python 3",
   "language": "python",
   "name": "python3"
  },
  "language_info": {
   "codemirror_mode": {
    "name": "ipython",
    "version": 3
   },
   "file_extension": ".py",
   "mimetype": "text/x-python",
   "name": "python",
   "nbconvert_exporter": "python",
   "pygments_lexer": "ipython3",
   "version": "3.7.4"
  }
 },
 "nbformat": 4,
 "nbformat_minor": 2
}
